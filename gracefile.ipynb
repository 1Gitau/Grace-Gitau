{
 "cells": [
  {
   "cell_type": "code",
   "execution_count": 15,
   "id": "277c9ced",
   "metadata": {},
   "outputs": [
    {
     "name": "stdout",
     "output_type": "stream",
     "text": [
      "Sentence 1: 3 vowels\n",
      "Sentence 2: 5 vowels\n",
      "Sentence 3: 5 vowels\n",
      "Sentence 4: 4 vowels\n"
     ]
    }
   ],
   "source": [
    "###COUNTING VOWELS\n",
    "\n",
    "\n",
    "def count_vowels_in_sentences(sentences):\n",
    "    # Define a set of vowels\n",
    "    vowels = \"aeiouAEIOU\"\n",
    "    \n",
    "    # Initialize a list to store vowel counts \n",
    "    vowel_counts = []\n",
    "    \n",
    "    # Loop through each sentence\n",
    "    for sentence in sentences:\n",
    "        # Initialize a counter for vowels in the sentence\n",
    "        vowel_count = 0\n",
    "        \n",
    "        # Loop through each character in the sentence\n",
    "        for char in sentence:\n",
    "            # Checking if the character is a vowel\n",
    "            if char in vowels:\n",
    "                vowel_count += 1\n",
    "        \n",
    "        # Adding the vowel count to the list\n",
    "        vowel_counts.append(vowel_count)\n",
    "    \n",
    "    return vowel_counts\n",
    "\n",
    "sentences = [\n",
    "    \"Hello world.\",\n",
    "    \"The quick brown fox.\",\n",
    "    \"AEIOU.\",\n",
    "    \"python programming.\"\n",
    "]\n",
    "\n",
    "vowel_counts = count_vowels_in_sentences(sentences)\n",
    "\n",
    "# Printing the vowel counts for each sentence\n",
    "for i, count in enumerate(vowel_counts, 1):\n",
    "    print(f\"Sentence {i}: {count} vowels\")"
   ]
  },
  {
   "cell_type": "code",
   "execution_count": 16,
   "id": "093e6807",
   "metadata": {},
   "outputs": [
    {
     "name": "stdout",
     "output_type": "stream",
     "text": [
      "Reversed text 1: .olleH\n",
      "Reversed text 2: .tpircsavaJ\n",
      "Reversed text 3: .54321\n",
      "Reversed text 4: .amanap lanac a nalp a nam A\n"
     ]
    }
   ],
   "source": [
    "#Reverse strings\n",
    "\n",
    "\n",
    "def reverse_strings_in_list(texts):\n",
    "    # Initializing a list \n",
    "    reversed_texts = []\n",
    "    \n",
    "    # Loop through each text \n",
    "    for text in texts:\n",
    "        # Reverse the text and append it\n",
    "        reversed_texts.append(text[::-1])\n",
    "    \n",
    "    return reversed_texts\n",
    "\n",
    "texts = [\n",
    "    \"Hello.\",\n",
    "    \"Javascript.\",\n",
    "    \"12345.\",\n",
    "    \"A man a plan a canal panama.\"\n",
    "]\n",
    "\n",
    "reversed_output = reverse_strings_in_list(texts)\n",
    "\n",
    "# Printing the reversed text\n",
    "for i, reversed_texts in enumerate(reversed_output, 1):\n",
    "    print(f\"Reversed text {i}: {reversed_texts}\")\n"
   ]
  },
  {
   "cell_type": "code",
   "execution_count": 17,
   "id": "b6449fa0",
   "metadata": {},
   "outputs": [
    {
     "name": "stdout",
     "output_type": "stream",
     "text": [
      "Even numbers in list 1: [2, 4]\n",
      "Even numbers in list 2: [10, 20]\n",
      "Even numbers in list 3: []\n",
      "Even numbers in list 4: [0, -2, -4]\n"
     ]
    }
   ],
   "source": [
    "#Filtering even numbers\n",
    "#defing a list of even numbers to be filtered.\n",
    "\n",
    "def filter_even_numbers_from_lists(list_of_lists):\n",
    "    # Initializing a list to store the outputs\n",
    "    filtered_lists = []\n",
    "    \n",
    "    # Loop through each list \n",
    "    for numbers in list_of_lists:\n",
    "        # Filtering the even numbers \n",
    "        even_numbers = [num for num in numbers if num % 2 == 0]\n",
    "        # Adding the filtered even numbers list\n",
    "        filtered_lists.append(even_numbers)\n",
    "    \n",
    "    return filtered_lists\n",
    "\n",
    "\n",
    "list_of_lists = [\n",
    "    [1, 2, 3, 4, 5],\n",
    "    [10, 15, 20, 25],\n",
    "    [7, 11, 13],\n",
    "    [0, -2, -4]\n",
    "]\n",
    "\n",
    "filtered_even_numbers = filter_even_numbers_from_lists(list_of_lists)\n",
    "\n",
    "# Printing the filtered even numbers \n",
    "for i, even_numbers in enumerate(filtered_even_numbers, 1):\n",
    "    print(f\"Even numbers in list {i}: {even_numbers}\")\n"
   ]
  },
  {
   "cell_type": "code",
   "execution_count": null,
   "id": "815d8bc9",
   "metadata": {},
   "outputs": [],
   "source": []
  }
 ],
 "metadata": {
  "kernelspec": {
   "display_name": "Python 3 (ipykernel)",
   "language": "python",
   "name": "python3"
  },
  "language_info": {
   "codemirror_mode": {
    "name": "ipython",
    "version": 3
   },
   "file_extension": ".py",
   "mimetype": "text/x-python",
   "name": "python",
   "nbconvert_exporter": "python",
   "pygments_lexer": "ipython3",
   "version": "3.11.5"
  }
 },
 "nbformat": 4,
 "nbformat_minor": 5
}
